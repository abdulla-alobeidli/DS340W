{
  "cells": [
    {
      "cell_type": "markdown",
      "metadata": {
        "id": "view-in-github",
        "colab_type": "text"
      },
      "source": [
        "<a href=\"https://colab.research.google.com/github/abdulla-alobeidli/DS340W/blob/main/priemer_league.ipynb\" target=\"_parent\"><img src=\"https://colab.research.google.com/assets/colab-badge.svg\" alt=\"Open In Colab\"/></a>"
      ]
    },
    {
      "cell_type": "markdown",
      "metadata": {
        "id": "04tMiHqaneh1"
      },
      "source": [
        "<div>    \n",
        "<img src=\"https://cdn.bleacherreport.net/images_root/slides/photos/000/587/176/Premier_League_original.jpg?1293083692\" width=\"500\"/>\n",
        "</div>\n",
        "\n",
        "[Image Source](https://cdn.bleacherreport.net/images_root/slides/photos/000/587/176/Premier_League_original.jpg?1293083692)\n",
        "\n",
        "# EDA on English Premier League Players Game Statistics\n",
        "---\n",
        "\n",
        "## Objectives:\n",
        "\n",
        "- Exploratory data anlysis on English Premier League players dataset.\n",
        "- Learn and apply data visualizatiosn techniques using plotly's data visualization library.\n",
        "\n",
        "---\n",
        "<a id=\"top\"></a>\n",
        "\n",
        "## Table of Contents\n",
        "* [1. Introduction](#1)\n",
        "    * [1.1 The Premier League](#1.1)\n",
        "    * [1.2 The Dataset](#1.2)\n",
        "    * [1.3 Data Pre-Processing](#1.3)\n",
        "* [2. General Statistics](#2)\n",
        "    * [2.1 Countries most represented in the EP](#2.1)\n",
        "    * [2.2 Players Appearances (nr. games](#2.2)\n",
        "    * [2.3 Players' Age](#2.3)\n",
        "* [3. Players Stats By Playing Position](#3)\n",
        "    * [3.1 Goalkeepers](#3.1)\n",
        "    * [3.2 Defenders](#3.2)\n",
        "    * [3.3 Midfielders](#3.3)\n",
        "    * [3.4 Forwards](#3.4)\n",
        "* [4. Other Statistics](#4)\n",
        "    * [4.1 Goal Distribution](#4.1)\n",
        "    * [4.2 Unwanted records](#4.2)\n",
        "* [5. Closing Remarks](#5)   \n",
        "* [6. References](#5)  \n",
        "---\n"
      ]
    },
    {
      "cell_type": "markdown",
      "metadata": {
        "id": "Lopl09Ymneh3"
      },
      "source": [
        "## 1. Introduction <a class=\"anchor\" id=\"1\"></a>\n",
        "### 1.1 The Premier League <a class=\"anchor\" id=\"1.1\"></a>\n",
        "The Premier League, often referred outside England as the `English Premier League or the EPL for short`, is the top level of the English football league system. Contested by 20 clubs, it operates on a system of promotion and relegation with the English Football League (EFL). Seasons run from August to May with each team playing 38 matches (playing all 19 other teams both home and away). [[source](https://en.wikipedia.org/wiki/Premier_League)]\n",
        "\n",
        "### 1.2 The Dataset <a class=\"anchor\" id=\"1.2\"></a>\n",
        "\n",
        "The [dataset](https://www.kaggle.com/rishikeshkanabar/premier-league-player-statistics-updated-daily) is correct upto and including 2020-09-24 (a lot has has happen since then, notebook will be updated when the dataset gets an update). Each row in the data represents a football player currently playing in the EPL and the columns are featured used to discribe players' data and game statistics. There are 571 rows and 59 columns in the data. Few of the columns are:\n",
        "\n",
        "* Name: Name of the player\n",
        "* Jersey Number: Number at the back of his shirt\n",
        "* Club: Club the player plays for at present\n",
        "* Position: Playing position(Goalkeeper, Defender, Mid-fider, Forward)\n",
        "* Nationality: Country the player is from\n",
        "* Age: Players age\n",
        "* Appearances: Number of games played (a substitute appearance aslo counts)\n",
        "* Wins: Number of games the palyer has won\n",
        "* Losses: Number of games the palyer has lost\n",
        "* Goals: Number of goals the player has scored in the EPL\n",
        "* Goals per match: Goals scored per game, etcetra.\n",
        "\n",
        "\n",
        "**Notes** :\n",
        "\n",
        "1. A player's attributes from previous premier league clubs are carried to his current club.\n",
        "2. When all-time stats are considered, obviously longevity in the game plays a big role. The longer the player has played in the EPL, the higher the stats (counts of something) are going to be. Hence the *per-game* stat will be a better indicator of performance. On the other hand players who played too few games might appear as top-performers. For this reason only players who played at least 38 games are considered (a full-season's worth of games) in the per-game comparison.\n"
      ]
    },
    {
      "cell_type": "code",
      "execution_count": 1,
      "metadata": {
        "id": "B8zFM7uYneh3",
        "colab": {
          "base_uri": "https://localhost:8080/",
          "height": 17
        },
        "outputId": "3e5939cf-04ce-4167-e353-b0b83ff148e2"
      },
      "outputs": [
        {
          "output_type": "display_data",
          "data": {
            "text/html": [
              "        <script type=\"text/javascript\">\n",
              "        window.PlotlyConfig = {MathJaxConfig: 'local'};\n",
              "        if (window.MathJax && window.MathJax.Hub && window.MathJax.Hub.Config) {window.MathJax.Hub.Config({SVG: {font: \"STIX-Web\"}});}\n",
              "        if (typeof require !== 'undefined') {\n",
              "        require.undef(\"plotly\");\n",
              "        requirejs.config({\n",
              "            paths: {\n",
              "                'plotly': ['https://cdn.plot.ly/plotly-2.24.1.min']\n",
              "            }\n",
              "        });\n",
              "        require(['plotly'], function(Plotly) {\n",
              "            window._Plotly = Plotly;\n",
              "        });\n",
              "        }\n",
              "        </script>\n",
              "        "
            ]
          },
          "metadata": {}
        }
      ],
      "source": [
        "from itertools import repeat\n",
        "import numpy as np\n",
        "import matplotlib.pyplot as plt\n",
        "import pandas as pd\n",
        "pd.set_option('mode.chained_assignment', None)\n",
        "import seaborn as sns\n",
        "import plotly.express as px\n",
        "import plotly.graph_objects as go\n",
        "from plotly.offline import init_notebook_mode, iplot\n",
        "init_notebook_mode(connected=True)"
      ]
    },
    {
      "cell_type": "code",
      "execution_count": 2,
      "metadata": {
        "colab": {
          "base_uri": "https://localhost:8080/"
        },
        "id": "uU8qykUsno2Q",
        "outputId": "79434d08-c85c-4c14-af84-2cb2f199a562"
      },
      "outputs": [
        {
          "output_type": "stream",
          "name": "stdout",
          "text": [
            "Drive already mounted at /content/drive/; to attempt to forcibly remount, call drive.mount(\"/content/drive/\", force_remount=True).\n",
            "/content/drive/MyDrive/Colab Notebooks/DS340\n",
            "/content/drive/MyDrive/Colab Notebooks/DS340\n"
          ]
        }
      ],
      "source": [
        "# My .csv file is in:  My Drive/Colab Notebooks\n",
        "from google.colab import drive\n",
        "drive.mount(\"/content/drive/\")\n",
        "\n",
        "%cd '/content/drive/MyDrive/Colab Notebooks/DS340'\n",
        "!pwd #Prints the present working directory"
      ]
    },
    {
      "cell_type": "code",
      "execution_count": 3,
      "metadata": {
        "id": "pIl3-I8ineh4"
      },
      "outputs": [],
      "source": [
        "data = pd.read_csv('./dataset2020.csv')\n",
        "data = data.copy()"
      ]
    },
    {
      "cell_type": "code",
      "execution_count": 4,
      "metadata": {
        "id": "9TAxMmG4neh4",
        "colab": {
          "base_uri": "https://localhost:8080/",
          "height": 395
        },
        "outputId": "717ebcc5-d6a1-4a3c-e2a7-ac9a13a1ce4d"
      },
      "outputs": [
        {
          "output_type": "stream",
          "name": "stdout",
          "text": [
            "Shape of the dataset is (571, 59)\n"
          ]
        },
        {
          "output_type": "execute_result",
          "data": {
            "text/plain": [
              "                   Name  Jersey Number     Club    Position Nationality   Age  \\\n",
              "0            Bernd Leno            1.0  Arsenal  Goalkeeper     Germany  28.0   \n",
              "1            Matt Macey           33.0  Arsenal  Goalkeeper     England  26.0   \n",
              "2  Rúnar Alex Rúnarsson           13.0  Arsenal  Goalkeeper     Iceland  25.0   \n",
              "3       Héctor Bellerín            2.0  Arsenal    Defender       Spain  25.0   \n",
              "4        Kieran Tierney            3.0  Arsenal    Defender    Scotland  23.0   \n",
              "\n",
              "   Appearances  Wins  Losses  Goals  ...  Punches  High Claims  Catches  \\\n",
              "0           64    28      16      0  ...     34.0         26.0     17.0   \n",
              "1            0     0       0      0  ...      0.0          0.0      0.0   \n",
              "2            0     0       0      0  ...      0.0          0.0      0.0   \n",
              "3          160    90      37      7  ...      NaN          NaN      NaN   \n",
              "4           16     7       5      1  ...      NaN          NaN      NaN   \n",
              "\n",
              "   Sweeper clearances  Throw outs  Goal Kicks  Yellow cards  Red cards Fouls  \\\n",
              "0                28.0       375.0       489.0             2          0     0   \n",
              "1                 0.0         0.0         0.0             0          0     0   \n",
              "2                 0.0         0.0         0.0             0          0     0   \n",
              "3                 NaN         NaN         NaN            23          0   125   \n",
              "4                 NaN         NaN         NaN             2          0     9   \n",
              "\n",
              "   Offsides  \n",
              "0       NaN  \n",
              "1       NaN  \n",
              "2       NaN  \n",
              "3       8.0  \n",
              "4       0.0  \n",
              "\n",
              "[5 rows x 59 columns]"
            ],
            "text/html": [
              "\n",
              "  <div id=\"df-6db3aec0-2633-4732-9bc6-e88aea904c3c\" class=\"colab-df-container\">\n",
              "    <div>\n",
              "<style scoped>\n",
              "    .dataframe tbody tr th:only-of-type {\n",
              "        vertical-align: middle;\n",
              "    }\n",
              "\n",
              "    .dataframe tbody tr th {\n",
              "        vertical-align: top;\n",
              "    }\n",
              "\n",
              "    .dataframe thead th {\n",
              "        text-align: right;\n",
              "    }\n",
              "</style>\n",
              "<table border=\"1\" class=\"dataframe\">\n",
              "  <thead>\n",
              "    <tr style=\"text-align: right;\">\n",
              "      <th></th>\n",
              "      <th>Name</th>\n",
              "      <th>Jersey Number</th>\n",
              "      <th>Club</th>\n",
              "      <th>Position</th>\n",
              "      <th>Nationality</th>\n",
              "      <th>Age</th>\n",
              "      <th>Appearances</th>\n",
              "      <th>Wins</th>\n",
              "      <th>Losses</th>\n",
              "      <th>Goals</th>\n",
              "      <th>...</th>\n",
              "      <th>Punches</th>\n",
              "      <th>High Claims</th>\n",
              "      <th>Catches</th>\n",
              "      <th>Sweeper clearances</th>\n",
              "      <th>Throw outs</th>\n",
              "      <th>Goal Kicks</th>\n",
              "      <th>Yellow cards</th>\n",
              "      <th>Red cards</th>\n",
              "      <th>Fouls</th>\n",
              "      <th>Offsides</th>\n",
              "    </tr>\n",
              "  </thead>\n",
              "  <tbody>\n",
              "    <tr>\n",
              "      <th>0</th>\n",
              "      <td>Bernd Leno</td>\n",
              "      <td>1.0</td>\n",
              "      <td>Arsenal</td>\n",
              "      <td>Goalkeeper</td>\n",
              "      <td>Germany</td>\n",
              "      <td>28.0</td>\n",
              "      <td>64</td>\n",
              "      <td>28</td>\n",
              "      <td>16</td>\n",
              "      <td>0</td>\n",
              "      <td>...</td>\n",
              "      <td>34.0</td>\n",
              "      <td>26.0</td>\n",
              "      <td>17.0</td>\n",
              "      <td>28.0</td>\n",
              "      <td>375.0</td>\n",
              "      <td>489.0</td>\n",
              "      <td>2</td>\n",
              "      <td>0</td>\n",
              "      <td>0</td>\n",
              "      <td>NaN</td>\n",
              "    </tr>\n",
              "    <tr>\n",
              "      <th>1</th>\n",
              "      <td>Matt Macey</td>\n",
              "      <td>33.0</td>\n",
              "      <td>Arsenal</td>\n",
              "      <td>Goalkeeper</td>\n",
              "      <td>England</td>\n",
              "      <td>26.0</td>\n",
              "      <td>0</td>\n",
              "      <td>0</td>\n",
              "      <td>0</td>\n",
              "      <td>0</td>\n",
              "      <td>...</td>\n",
              "      <td>0.0</td>\n",
              "      <td>0.0</td>\n",
              "      <td>0.0</td>\n",
              "      <td>0.0</td>\n",
              "      <td>0.0</td>\n",
              "      <td>0.0</td>\n",
              "      <td>0</td>\n",
              "      <td>0</td>\n",
              "      <td>0</td>\n",
              "      <td>NaN</td>\n",
              "    </tr>\n",
              "    <tr>\n",
              "      <th>2</th>\n",
              "      <td>Rúnar Alex Rúnarsson</td>\n",
              "      <td>13.0</td>\n",
              "      <td>Arsenal</td>\n",
              "      <td>Goalkeeper</td>\n",
              "      <td>Iceland</td>\n",
              "      <td>25.0</td>\n",
              "      <td>0</td>\n",
              "      <td>0</td>\n",
              "      <td>0</td>\n",
              "      <td>0</td>\n",
              "      <td>...</td>\n",
              "      <td>0.0</td>\n",
              "      <td>0.0</td>\n",
              "      <td>0.0</td>\n",
              "      <td>0.0</td>\n",
              "      <td>0.0</td>\n",
              "      <td>0.0</td>\n",
              "      <td>0</td>\n",
              "      <td>0</td>\n",
              "      <td>0</td>\n",
              "      <td>NaN</td>\n",
              "    </tr>\n",
              "    <tr>\n",
              "      <th>3</th>\n",
              "      <td>Héctor Bellerín</td>\n",
              "      <td>2.0</td>\n",
              "      <td>Arsenal</td>\n",
              "      <td>Defender</td>\n",
              "      <td>Spain</td>\n",
              "      <td>25.0</td>\n",
              "      <td>160</td>\n",
              "      <td>90</td>\n",
              "      <td>37</td>\n",
              "      <td>7</td>\n",
              "      <td>...</td>\n",
              "      <td>NaN</td>\n",
              "      <td>NaN</td>\n",
              "      <td>NaN</td>\n",
              "      <td>NaN</td>\n",
              "      <td>NaN</td>\n",
              "      <td>NaN</td>\n",
              "      <td>23</td>\n",
              "      <td>0</td>\n",
              "      <td>125</td>\n",
              "      <td>8.0</td>\n",
              "    </tr>\n",
              "    <tr>\n",
              "      <th>4</th>\n",
              "      <td>Kieran Tierney</td>\n",
              "      <td>3.0</td>\n",
              "      <td>Arsenal</td>\n",
              "      <td>Defender</td>\n",
              "      <td>Scotland</td>\n",
              "      <td>23.0</td>\n",
              "      <td>16</td>\n",
              "      <td>7</td>\n",
              "      <td>5</td>\n",
              "      <td>1</td>\n",
              "      <td>...</td>\n",
              "      <td>NaN</td>\n",
              "      <td>NaN</td>\n",
              "      <td>NaN</td>\n",
              "      <td>NaN</td>\n",
              "      <td>NaN</td>\n",
              "      <td>NaN</td>\n",
              "      <td>2</td>\n",
              "      <td>0</td>\n",
              "      <td>9</td>\n",
              "      <td>0.0</td>\n",
              "    </tr>\n",
              "  </tbody>\n",
              "</table>\n",
              "<p>5 rows × 59 columns</p>\n",
              "</div>\n",
              "    <div class=\"colab-df-buttons\">\n",
              "\n",
              "  <div class=\"colab-df-container\">\n",
              "    <button class=\"colab-df-convert\" onclick=\"convertToInteractive('df-6db3aec0-2633-4732-9bc6-e88aea904c3c')\"\n",
              "            title=\"Convert this dataframe to an interactive table.\"\n",
              "            style=\"display:none;\">\n",
              "\n",
              "  <svg xmlns=\"http://www.w3.org/2000/svg\" height=\"24px\" viewBox=\"0 -960 960 960\">\n",
              "    <path d=\"M120-120v-720h720v720H120Zm60-500h600v-160H180v160Zm220 220h160v-160H400v160Zm0 220h160v-160H400v160ZM180-400h160v-160H180v160Zm440 0h160v-160H620v160ZM180-180h160v-160H180v160Zm440 0h160v-160H620v160Z\"/>\n",
              "  </svg>\n",
              "    </button>\n",
              "\n",
              "  <style>\n",
              "    .colab-df-container {\n",
              "      display:flex;\n",
              "      gap: 12px;\n",
              "    }\n",
              "\n",
              "    .colab-df-convert {\n",
              "      background-color: #E8F0FE;\n",
              "      border: none;\n",
              "      border-radius: 50%;\n",
              "      cursor: pointer;\n",
              "      display: none;\n",
              "      fill: #1967D2;\n",
              "      height: 32px;\n",
              "      padding: 0 0 0 0;\n",
              "      width: 32px;\n",
              "    }\n",
              "\n",
              "    .colab-df-convert:hover {\n",
              "      background-color: #E2EBFA;\n",
              "      box-shadow: 0px 1px 2px rgba(60, 64, 67, 0.3), 0px 1px 3px 1px rgba(60, 64, 67, 0.15);\n",
              "      fill: #174EA6;\n",
              "    }\n",
              "\n",
              "    .colab-df-buttons div {\n",
              "      margin-bottom: 4px;\n",
              "    }\n",
              "\n",
              "    [theme=dark] .colab-df-convert {\n",
              "      background-color: #3B4455;\n",
              "      fill: #D2E3FC;\n",
              "    }\n",
              "\n",
              "    [theme=dark] .colab-df-convert:hover {\n",
              "      background-color: #434B5C;\n",
              "      box-shadow: 0px 1px 3px 1px rgba(0, 0, 0, 0.15);\n",
              "      filter: drop-shadow(0px 1px 2px rgba(0, 0, 0, 0.3));\n",
              "      fill: #FFFFFF;\n",
              "    }\n",
              "  </style>\n",
              "\n",
              "    <script>\n",
              "      const buttonEl =\n",
              "        document.querySelector('#df-6db3aec0-2633-4732-9bc6-e88aea904c3c button.colab-df-convert');\n",
              "      buttonEl.style.display =\n",
              "        google.colab.kernel.accessAllowed ? 'block' : 'none';\n",
              "\n",
              "      async function convertToInteractive(key) {\n",
              "        const element = document.querySelector('#df-6db3aec0-2633-4732-9bc6-e88aea904c3c');\n",
              "        const dataTable =\n",
              "          await google.colab.kernel.invokeFunction('convertToInteractive',\n",
              "                                                    [key], {});\n",
              "        if (!dataTable) return;\n",
              "\n",
              "        const docLinkHtml = 'Like what you see? Visit the ' +\n",
              "          '<a target=\"_blank\" href=https://colab.research.google.com/notebooks/data_table.ipynb>data table notebook</a>'\n",
              "          + ' to learn more about interactive tables.';\n",
              "        element.innerHTML = '';\n",
              "        dataTable['output_type'] = 'display_data';\n",
              "        await google.colab.output.renderOutput(dataTable, element);\n",
              "        const docLink = document.createElement('div');\n",
              "        docLink.innerHTML = docLinkHtml;\n",
              "        element.appendChild(docLink);\n",
              "      }\n",
              "    </script>\n",
              "  </div>\n",
              "\n",
              "\n",
              "<div id=\"df-87142315-f0c9-4014-967f-9ed44c958bfb\">\n",
              "  <button class=\"colab-df-quickchart\" onclick=\"quickchart('df-87142315-f0c9-4014-967f-9ed44c958bfb')\"\n",
              "            title=\"Suggest charts\"\n",
              "            style=\"display:none;\">\n",
              "\n",
              "<svg xmlns=\"http://www.w3.org/2000/svg\" height=\"24px\"viewBox=\"0 0 24 24\"\n",
              "     width=\"24px\">\n",
              "    <g>\n",
              "        <path d=\"M19 3H5c-1.1 0-2 .9-2 2v14c0 1.1.9 2 2 2h14c1.1 0 2-.9 2-2V5c0-1.1-.9-2-2-2zM9 17H7v-7h2v7zm4 0h-2V7h2v10zm4 0h-2v-4h2v4z\"/>\n",
              "    </g>\n",
              "</svg>\n",
              "  </button>\n",
              "\n",
              "<style>\n",
              "  .colab-df-quickchart {\n",
              "      --bg-color: #E8F0FE;\n",
              "      --fill-color: #1967D2;\n",
              "      --hover-bg-color: #E2EBFA;\n",
              "      --hover-fill-color: #174EA6;\n",
              "      --disabled-fill-color: #AAA;\n",
              "      --disabled-bg-color: #DDD;\n",
              "  }\n",
              "\n",
              "  [theme=dark] .colab-df-quickchart {\n",
              "      --bg-color: #3B4455;\n",
              "      --fill-color: #D2E3FC;\n",
              "      --hover-bg-color: #434B5C;\n",
              "      --hover-fill-color: #FFFFFF;\n",
              "      --disabled-bg-color: #3B4455;\n",
              "      --disabled-fill-color: #666;\n",
              "  }\n",
              "\n",
              "  .colab-df-quickchart {\n",
              "    background-color: var(--bg-color);\n",
              "    border: none;\n",
              "    border-radius: 50%;\n",
              "    cursor: pointer;\n",
              "    display: none;\n",
              "    fill: var(--fill-color);\n",
              "    height: 32px;\n",
              "    padding: 0;\n",
              "    width: 32px;\n",
              "  }\n",
              "\n",
              "  .colab-df-quickchart:hover {\n",
              "    background-color: var(--hover-bg-color);\n",
              "    box-shadow: 0 1px 2px rgba(60, 64, 67, 0.3), 0 1px 3px 1px rgba(60, 64, 67, 0.15);\n",
              "    fill: var(--button-hover-fill-color);\n",
              "  }\n",
              "\n",
              "  .colab-df-quickchart-complete:disabled,\n",
              "  .colab-df-quickchart-complete:disabled:hover {\n",
              "    background-color: var(--disabled-bg-color);\n",
              "    fill: var(--disabled-fill-color);\n",
              "    box-shadow: none;\n",
              "  }\n",
              "\n",
              "  .colab-df-spinner {\n",
              "    border: 2px solid var(--fill-color);\n",
              "    border-color: transparent;\n",
              "    border-bottom-color: var(--fill-color);\n",
              "    animation:\n",
              "      spin 1s steps(1) infinite;\n",
              "  }\n",
              "\n",
              "  @keyframes spin {\n",
              "    0% {\n",
              "      border-color: transparent;\n",
              "      border-bottom-color: var(--fill-color);\n",
              "      border-left-color: var(--fill-color);\n",
              "    }\n",
              "    20% {\n",
              "      border-color: transparent;\n",
              "      border-left-color: var(--fill-color);\n",
              "      border-top-color: var(--fill-color);\n",
              "    }\n",
              "    30% {\n",
              "      border-color: transparent;\n",
              "      border-left-color: var(--fill-color);\n",
              "      border-top-color: var(--fill-color);\n",
              "      border-right-color: var(--fill-color);\n",
              "    }\n",
              "    40% {\n",
              "      border-color: transparent;\n",
              "      border-right-color: var(--fill-color);\n",
              "      border-top-color: var(--fill-color);\n",
              "    }\n",
              "    60% {\n",
              "      border-color: transparent;\n",
              "      border-right-color: var(--fill-color);\n",
              "    }\n",
              "    80% {\n",
              "      border-color: transparent;\n",
              "      border-right-color: var(--fill-color);\n",
              "      border-bottom-color: var(--fill-color);\n",
              "    }\n",
              "    90% {\n",
              "      border-color: transparent;\n",
              "      border-bottom-color: var(--fill-color);\n",
              "    }\n",
              "  }\n",
              "</style>\n",
              "\n",
              "  <script>\n",
              "    async function quickchart(key) {\n",
              "      const quickchartButtonEl =\n",
              "        document.querySelector('#' + key + ' button');\n",
              "      quickchartButtonEl.disabled = true;  // To prevent multiple clicks.\n",
              "      quickchartButtonEl.classList.add('colab-df-spinner');\n",
              "      try {\n",
              "        const charts = await google.colab.kernel.invokeFunction(\n",
              "            'suggestCharts', [key], {});\n",
              "      } catch (error) {\n",
              "        console.error('Error during call to suggestCharts:', error);\n",
              "      }\n",
              "      quickchartButtonEl.classList.remove('colab-df-spinner');\n",
              "      quickchartButtonEl.classList.add('colab-df-quickchart-complete');\n",
              "    }\n",
              "    (() => {\n",
              "      let quickchartButtonEl =\n",
              "        document.querySelector('#df-87142315-f0c9-4014-967f-9ed44c958bfb button');\n",
              "      quickchartButtonEl.style.display =\n",
              "        google.colab.kernel.accessAllowed ? 'block' : 'none';\n",
              "    })();\n",
              "  </script>\n",
              "</div>\n",
              "\n",
              "    </div>\n",
              "  </div>\n"
            ],
            "application/vnd.google.colaboratory.intrinsic+json": {
              "type": "dataframe",
              "variable_name": "data"
            }
          },
          "metadata": {},
          "execution_count": 4
        }
      ],
      "source": [
        "print('Shape of the dataset is {}'.format(data.shape))\n",
        "data.head()"
      ]
    },
    {
      "cell_type": "code",
      "execution_count": 5,
      "metadata": {
        "id": "UXB2y6x4neh4",
        "colab": {
          "base_uri": "https://localhost:8080/"
        },
        "outputId": "bf53629c-199c-4d81-d683-5ebfa5ffaf41"
      },
      "outputs": [
        {
          "output_type": "stream",
          "name": "stdout",
          "text": [
            "<class 'pandas.core.frame.DataFrame'>\n",
            "RangeIndex: 571 entries, 0 to 570\n",
            "Data columns (total 59 columns):\n",
            " #   Column                  Non-Null Count  Dtype  \n",
            "---  ------                  --------------  -----  \n",
            " 0   Name                    571 non-null    object \n",
            " 1   Jersey Number           563 non-null    float64\n",
            " 2   Club                    571 non-null    object \n",
            " 3   Position                571 non-null    object \n",
            " 4   Nationality             570 non-null    object \n",
            " 5   Age                     570 non-null    float64\n",
            " 6   Appearances             571 non-null    int64  \n",
            " 7   Wins                    571 non-null    int64  \n",
            " 8   Losses                  571 non-null    int64  \n",
            " 9   Goals                   571 non-null    int64  \n",
            " 10  Goals per match         309 non-null    float64\n",
            " 11  Headed goals            502 non-null    float64\n",
            " 12  Goals with right foot   502 non-null    float64\n",
            " 13  Goals with left foot    502 non-null    float64\n",
            " 14  Penalties scored        309 non-null    float64\n",
            " 15  Freekicks scored        309 non-null    float64\n",
            " 16  Shots                   309 non-null    float64\n",
            " 17  Shots on target         309 non-null    float64\n",
            " 18  Shooting accuracy %     309 non-null    object \n",
            " 19  Hit woodwork            502 non-null    float64\n",
            " 20  Big chances missed      309 non-null    float64\n",
            " 21  Clean sheets            262 non-null    float64\n",
            " 22  Goals conceded          262 non-null    float64\n",
            " 23  Tackles                 502 non-null    float64\n",
            " 24  Tackle success %        390 non-null    object \n",
            " 25  Last man tackles        193 non-null    float64\n",
            " 26  Blocked shots           502 non-null    float64\n",
            " 27  Interceptions           502 non-null    float64\n",
            " 28  Clearances              502 non-null    float64\n",
            " 29  Headed Clearance        502 non-null    float64\n",
            " 30  Clearances off line     193 non-null    float64\n",
            " 31  Recoveries              390 non-null    float64\n",
            " 32  Duels won               390 non-null    float64\n",
            " 33  Duels lost              390 non-null    float64\n",
            " 34  Successful 50/50s       390 non-null    float64\n",
            " 35  Aerial battles won      390 non-null    float64\n",
            " 36  Aerial battles lost     390 non-null    float64\n",
            " 37  Own goals               262 non-null    float64\n",
            " 38  Errors leading to goal  459 non-null    float64\n",
            " 39  Assists                 571 non-null    int64  \n",
            " 40  Passes                  571 non-null    int64  \n",
            " 41  Passes per match        571 non-null    float64\n",
            " 42  Big chances created     502 non-null    float64\n",
            " 43  Crosses                 502 non-null    float64\n",
            " 44  Cross accuracy %        390 non-null    object \n",
            " 45  Through balls           390 non-null    float64\n",
            " 46  Accurate long balls     459 non-null    float64\n",
            " 47  Saves                   69 non-null     float64\n",
            " 48  Penalties saved         69 non-null     float64\n",
            " 49  Punches                 69 non-null     float64\n",
            " 50  High Claims             69 non-null     float64\n",
            " 51  Catches                 69 non-null     float64\n",
            " 52  Sweeper clearances      69 non-null     float64\n",
            " 53  Throw outs              69 non-null     float64\n",
            " 54  Goal Kicks              69 non-null     float64\n",
            " 55  Yellow cards            571 non-null    int64  \n",
            " 56  Red cards               571 non-null    int64  \n",
            " 57  Fouls                   571 non-null    int64  \n",
            " 58  Offsides                502 non-null    float64\n",
            "dtypes: float64(43), int64(9), object(7)\n",
            "memory usage: 263.3+ KB\n"
          ]
        }
      ],
      "source": [
        "data.info()"
      ]
    },
    {
      "cell_type": "markdown",
      "metadata": {
        "id": "Q7_9iOdQneh4"
      },
      "source": [
        "### 1.3 Data pre-processing <a class=\"anchor\" id=\"1.3\"></a>"
      ]
    },
    {
      "cell_type": "code",
      "execution_count": 6,
      "metadata": {
        "id": "xKr39veEneh4"
      },
      "outputs": [],
      "source": [
        "# Remove entries which do not have age, jersey number and nationality\n",
        "data = data[data['Nationality'].notna()]\n",
        "data = data[data['Age'].notna()]\n",
        "data = data[data['Jersey Number'].notna()]\n",
        "\n",
        "# cleaning the percentage sign\n",
        "data['Cross accuracy %'] = data['Cross accuracy %'].str.replace(r'%', '').astype(float)\n",
        "data['Shooting accuracy %'] = data['Shooting accuracy %'].str.replace(r'%', '').astype(float)\n",
        "data['Tackle success %'] = data['Tackle success %'].str.replace(r'%', '').astype(float)\n",
        "\n",
        "features = data.columns\n",
        "data_clean = data[features]\n",
        "data_clean.head()\n",
        "\n",
        "data_clean_appNonZero = data_clean[data_clean['Appearances'] > 0] #prevents division by zero for players who are yet to make appearances\n",
        "\n",
        "# take care off the data type for division\n",
        "# separate cols with dtype objects and cols that may not be divided by appearances\n",
        "\n",
        "cols = features.drop(['Age', 'Name', 'Appearances', 'Club', 'Nationality', 'Jersey Number', 'Cross accuracy %', 'Position', 'Goals per match',\n",
        "                      'Passes per match','Tackle success %', 'Shooting accuracy %'])\n",
        "data_clean_appNonZero.loc[:, cols] = data_clean_appNonZero.loc[:, cols].div(data_clean_appNonZero['Appearances'], axis=0)\n",
        "\n",
        "# positional classifications on the data as is\n",
        "goalies = data[data['Position'] == 'Goalkeeper']\n",
        "defenders = data[data['Position'] == 'Defender']\n",
        "midfielders = data[data['Position'] == 'Midfielder']\n",
        "forwards = data[data['Position'] == 'Forward']\n",
        "\n",
        "# palyers who have made atleast 38 games (a seasons worth games)\n",
        "# data as is\n",
        "data_38app = data[data['Appearances'] >=38]\n",
        "goalies_38app = goalies[goalies['Appearances'] >= 38]\n",
        "defenders_38app = defenders[defenders['Appearances'] >= 38]\n",
        "midfilders_38app = midfielders[midfielders['Appearances'] >= 38]\n",
        "forwards_38app = forwards[forwards['Appearances'] >= 38]\n",
        "\n",
        "# palyers who have made atleast 38 games (a seasons worth games)\n",
        "# data normalized\n",
        "all_players = data_clean_appNonZero[data_clean_appNonZero['Appearances'] >= 38]\n",
        "goalies_ = data_clean_appNonZero[(data_clean_appNonZero['Position'] == 'Goalkeeper') & (data_clean_appNonZero['Appearances'] >= 38)]\n",
        "defenders_ = data_clean_appNonZero[(data_clean_appNonZero['Position'] == 'Defender') & (data_clean_appNonZero['Appearances'] >= 38)]\n",
        "midfielders_ = data_clean_appNonZero[(data_clean_appNonZero['Position'] == 'Midfielder') & (data_clean_appNonZero['Appearances'] >= 38)]\n",
        "forwards_ = data_clean_appNonZero[(data_clean_appNonZero['Position'] == 'Forward') & (data_clean_appNonZero['Appearances'] >= 38)]"
      ]
    },
    {
      "cell_type": "markdown",
      "metadata": {
        "id": "BAcUSkmrneh5"
      },
      "source": [
        "<a href=\"#top\">Back to top</a>  \n",
        "\n",
        "## 2. General Statistics <a class=\"anchor\" id=\"2\"></a>\n",
        "### 2.1 Countries most represented in the EPL <a class=\"anchor\" id=\"2.1\"></a>\n",
        "\n",
        "In any league it is normal to have more home-grown players than foreign palyers and the EPL is no different. The majority of the players are English. Other UK member countries will also likely have more representations. The question is which country comes next? The first thing that can be a factor is geographyical proximity. What comes after that would be likely to be determined by talent baring workpermit issue and visa-related challenges that could prevent some players from playing/working in the EPL. But that is a rarity. Below are the top three nations after home country (England) ranked by overall apprearances and further breakdown by players playing positions.\n",
        "\n",
        "#### Summary most represented nations:\n",
        "\n",
        "* Overall: 1st **France**, 2nd **Spain**, 3rd *Brazil*\n",
        "* Goalkeepers: 1st **Spain**, 2nd Denmark, 3rd **France**\n",
        "* Defenders: 1st **Spain**, 2nd Nederland, 3rd *Ireland*\n",
        "* Midfielders: 1st *Scotland*, 2nd **France**, 3rd **Spain**\n",
        "* Forwards: 1st *Brazil*, 2nd **France**, 3rd *Ireland*\n",
        "\n",
        "**French** and **Spanish** players found their second home in England. Honorable mention to **Brazil**"
      ]
    },
    {
      "cell_type": "code",
      "execution_count": 7,
      "metadata": {
        "id": "UfIaynuwneh5",
        "colab": {
          "base_uri": "https://localhost:8080/",
          "height": 35
        },
        "outputId": "c1ad112d-c4c8-4888-cfa7-792c8b6cc61b"
      },
      "outputs": [
        {
          "output_type": "execute_result",
          "data": {
            "text/plain": [
              "'/content/drive/My Drive/Colab Notebooks/DS340/Visuals/apps_country.html'"
            ],
            "application/vnd.google.colaboratory.intrinsic+json": {
              "type": "string"
            }
          },
          "metadata": {},
          "execution_count": 7
        }
      ],
      "source": [
        "import plotly.offline as pyo\n",
        "import plotly.express as px\n",
        "import pandas as pd\n",
        "\n",
        "# Assuming 'data' is already defined and loaded into DataFrame 'df'\n",
        "# If 'data' is not defined, replace 'data' with your DataFrame variable\n",
        "df = data  # Ensure 'data' is your DataFrame containing the necessary columns\n",
        "\n",
        "fig = px.sunburst(df,\n",
        "                  path=['Position', 'Nationality'],  # Adjust columns as needed\n",
        "                  values='Appearances',  # Ensure this column exists in your DataFrame\n",
        "                 )\n",
        "fig.update_layout(title_text='<b>Players position by country <b>',\n",
        "                  title_x=0.5,\n",
        "                  titlefont=dict(color='black', size=28, family=\"Courier New, monospace\"),\n",
        "                  width=600,\n",
        "                  height=600,\n",
        "                  showlegend=False)\n",
        "\n",
        "file_path = '/content/drive/My Drive/Colab Notebooks/DS340/Visuals/apps_country.html'\n",
        "pyo.plot(fig, filename=file_path, auto_open=False)  # Added 'auto_open=False' to prevent automatic opening of the file\n"
      ]
    },
    {
      "cell_type": "code",
      "execution_count": 8,
      "metadata": {
        "id": "6R5SKKyaneh5",
        "colab": {
          "base_uri": "https://localhost:8080/",
          "height": 35
        },
        "outputId": "1b8576d1-ed26-4852-8ae2-365b24fa2f29"
      },
      "outputs": [
        {
          "output_type": "execute_result",
          "data": {
            "text/plain": [
              "'/content/drive/MyDrive/Colab Notebooks/DS340/Visuals/position_country.html'"
            ],
            "application/vnd.google.colaboratory.intrinsic+json": {
              "type": "string"
            }
          },
          "metadata": {},
          "execution_count": 8
        }
      ],
      "source": [
        "import plotly.offline as pyo\n",
        "\n",
        "# Your existing Plotly figure code\n",
        "df = data\n",
        "fig = px.sunburst(df,\n",
        "                  path=['Position', 'Nationality'],\n",
        "                  values='Appearances',\n",
        "                 )\n",
        "fig.update_layout(title_text='<b>Players position by country <b>',\n",
        "                  title_x=0.5,\n",
        "                  titlefont=dict(color='black',\n",
        "                                 size=28,\n",
        "                                 family=\"Courier New, monospace\",),\n",
        "                  width=600,\n",
        "                  height=600,\n",
        "                  showlegend=False,\n",
        "                 )\n",
        "\n",
        "file_path = '/content/drive/MyDrive/Colab Notebooks/DS340/Visuals/position_country.html'\n",
        "pyo.plot(fig, filename=file_path)\n"
      ]
    },
    {
      "cell_type": "markdown",
      "metadata": {
        "id": "yPW6M3y6neh5"
      },
      "source": [
        "### 2.2 Players Appearances (nr. games) <a class=\"anchor\" id=\"2.2\"></a>\n",
        "\n",
        "Longevity, versatility, quality of the player & the squad and  playing position are major factors for number of appearances.  \n",
        "\n",
        "Most of the appearances come from defence and midfield position. No surprise here. If the most common line-ups/systems (4-4-2, 4-5-1, 3-5-2, 4-3-3) are averaged they would look like in the graph below. Usually midfielders are versatile and can play in defence or in attack if needed. So they constitute the majority of a given squad.\n",
        "\n",
        "#### Summary most appearances\n",
        "\n",
        "- Goalkeeper: Joe Hart, 340\n",
        "- Defender: Phil Jagielka, 366\n",
        "- Midfielder: James Milner, 539\n",
        "- Forward: Theo Walcott, 346"
      ]
    },
    {
      "cell_type": "code",
      "execution_count": 9,
      "metadata": {
        "id": "yE0GyXnmneh5",
        "colab": {
          "base_uri": "https://localhost:8080/",
          "height": 35
        },
        "outputId": "a44e946f-a966-4ad4-a525-c52ad90d0f06"
      },
      "outputs": [
        {
          "output_type": "execute_result",
          "data": {
            "text/plain": [
              "'/content/drive/MyDrive/Colab Notebooks/DS340/Visuals/apps_position.html'"
            ],
            "application/vnd.google.colaboratory.intrinsic+json": {
              "type": "string"
            }
          },
          "metadata": {},
          "execution_count": 9
        }
      ],
      "source": [
        "df = data\n",
        "fig = px.bar(df, x=\"Position\", y=\"Appearances\",color='Club',\n",
        "             hover_data=[\"Name\"],\n",
        "             width=750, height=600,)\n",
        "fig.update_layout(\n",
        "             template='ggplot2',\n",
        "             title='<b>Players appearance by position<b>',\n",
        "             titlefont={'size':24})\n",
        "\n",
        "file_path = '/content/drive/MyDrive/Colab Notebooks/DS340/Visuals/apps_position.html'\n",
        "pyo.plot(fig, filename=file_path)"
      ]
    },
    {
      "cell_type": "code",
      "execution_count": 10,
      "metadata": {
        "id": "ArsPyojGneh5",
        "colab": {
          "base_uri": "https://localhost:8080/",
          "height": 35
        },
        "outputId": "112fea00-8913-4798-ce9e-9be19c5f15ec"
      },
      "outputs": [
        {
          "output_type": "execute_result",
          "data": {
            "text/plain": [
              "'/content/drive/MyDrive/Colab Notebooks/DS340/Visuals/apps_club.html'"
            ],
            "application/vnd.google.colaboratory.intrinsic+json": {
              "type": "string"
            }
          },
          "metadata": {},
          "execution_count": 10
        }
      ],
      "source": [
        "fig = px.bar(df, y=\"Club\", x=\"Appearances\",color='Position',\n",
        "             hover_data=[\"Name\"],\n",
        "             width=750,\n",
        "             height=600,\n",
        "             )\n",
        "fig.update_layout(\n",
        "             template='ggplot2',\n",
        "             title='<b>Appearance by club<b>',\n",
        "             titlefont={'size':24},\n",
        ")\n",
        "file_path = '/content/drive/MyDrive/Colab Notebooks/DS340/Visuals/apps_club.html'\n",
        "pyo.plot(fig, filename=file_path)"
      ]
    },
    {
      "cell_type": "markdown",
      "metadata": {
        "id": "9XAf3zvcneh5"
      },
      "source": [
        "### 2.3 Players' Age <a class=\"anchor\" id=\"2.3\"></a>\n",
        "Goalkeepers and defender are relatively older than thier mid-field and attacking colleagues. The defence line (including goalkeepers) is widely regarded as the area where more of a wise-head/cool-headed than a lightning fast leg is need. No harm if a defender is fast, there are many of them. But most defenders mature with age. Being an older defender is not a bad thing.\n",
        "\n",
        "**Summary:**\n",
        "* The yougest squad is Leeds-United\n",
        "* Liverpool are the oldest group of players\n",
        "* The min, median and max ages are 17, 25.8 and 38 years\n",
        "\n",
        "**Extra info:**\n",
        "\n",
        "The youngest ever EPL player: Harvey Elliott – 16 years and 30 days (Liverpool, made debut on May 2019)\n",
        "\n",
        "The olderst ever EPL player: John Burridge – 43 years and 163 days (Aston Villa, played last 1995)\n",
        "\n",
        "<a href=\"#top\">Back to top</a>  "
      ]
    },
    {
      "cell_type": "code",
      "execution_count": 11,
      "metadata": {
        "id": "GF1JU1n7neh6",
        "colab": {
          "base_uri": "https://localhost:8080/",
          "height": 35
        },
        "outputId": "9c83d4ba-e776-4b40-af1d-ef9bc83a0ea9"
      },
      "outputs": [
        {
          "output_type": "execute_result",
          "data": {
            "text/plain": [
              "'/content/drive/MyDrive/Colab Notebooks/DS340/Visuals/age_club.html'"
            ],
            "application/vnd.google.colaboratory.intrinsic+json": {
              "type": "string"
            }
          },
          "metadata": {},
          "execution_count": 11
        }
      ],
      "source": [
        "df = data\n",
        "age_avg=df['Age'].mean()\n",
        "fig = px.violin(df, y=\"Age\", x=\"Position\", box=True,\n",
        "                title='<b> Players Age distribution by position (avg. age dotted line)<b>',\n",
        "                width=600,height=400,template='simple_white')\n",
        "fig.add_shape(\n",
        "    type=\"line\", line_color=\"blue\", line_width=3, opacity=1, line_dash=\"dot\",\n",
        "    x0=0, x1=1, xref=\"paper\", y0=age_avg, y1=age_avg, yref=\"y\"\n",
        ")\n",
        "file_path = '/content/drive/MyDrive/Colab Notebooks/DS340/Visuals/age_position.html'\n",
        "pyo.plot(fig, filename=file_path)\n",
        "\n",
        "fig = px.box(df, y=\"Club\", x=\"Age\",\n",
        "            title='<b>Players Age distribution by club (avg. age dotted line)<b>',\n",
        "            width=750,height=750,template='ggplot2')\n",
        "fig.add_shape(\n",
        "    type=\"line\", line_color=\"black\", line_width=3, opacity=1, line_dash=\"dot\",\n",
        "    y0=0, y1=1, yref=\"paper\", x0=age_avg, x1=age_avg, xref=\"x\"\n",
        ")\n",
        "# fig.update_layout( yaxis={'categoryorder':'total descending'})\n",
        "file_path = '/content/drive/MyDrive/Colab Notebooks/DS340/Visuals/age_club.html'\n",
        "pyo.plot(fig, filename=file_path)"
      ]
    },
    {
      "cell_type": "markdown",
      "metadata": {
        "id": "z4mp3M6uneh6"
      },
      "source": [
        "<div>    \n",
        "<img src=\"https://cdn.standardmedia.co.ke/images/thursday/spwhmm6qtavglc4atib5ed0054dcc631.jpg\" width=\"500\"/>    \n",
        "</div>\n",
        "\n",
        "## 3. Players Stats By Playing Position <a class=\"anchor\" id=\"3\"></a>\n",
        "### 3.1 Goalkeepers  <a class=\"anchor\" id=\"3.1\"></a>\n",
        "\n",
        "One of the key stats for goalkeepers is the much coveted `clean sheet` (conceeding zero goals in a game). Although this stat is not entierly dependent on the performance/ability of the goalkeeper only (a solid defence-line infront of a goalkeeper always helps), this metric shows how good a goal keeper is. The goalkeeper who kept the most clean sheets is awarded a golden-glove for thier effort at the end of a season. Other important qualities of a goalkeeper are:\n",
        "\n",
        "*  Clean sheets\n",
        "*  Saves\n",
        "*  Penalties saved\n",
        "*  Punches\n",
        "*  High Claims\n",
        "*  Catches\n",
        "\n",
        "**Extra info**:\n",
        "Most Expensive goal keepers in the EPL are:\n",
        "1. Kepa Arrizabalaga (SPN), Athletic Bilbao to Chelsea in 2018, £71m\n",
        "2. Alisson Becker (BRA), AS Roma to Liverpool in 2018, £65m\n",
        "3. Ederson Moraes (BRA), Benfica to Manchester City in 2017, £34.7m\n",
        "\n",
        "[Here is the reference. ](https://www.espn.com/soccer/soccer-transfers/story/3135816/the-10-most-expensive-goalkeepers-kepa-alisson-becker-courtois-ederson)\n"
      ]
    },
    {
      "cell_type": "code",
      "execution_count": 12,
      "metadata": {
        "id": "o-0lq5Y6neh6",
        "colab": {
          "base_uri": "https://localhost:8080/",
          "height": 35
        },
        "outputId": "c7b33959-d31a-44c1-b6c4-cee1acbbfe6c"
      },
      "outputs": [
        {
          "output_type": "execute_result",
          "data": {
            "text/plain": [
              "'/content/drive/MyDrive/Colab Notebooks/DS340/Visuals/top_gk.html'"
            ],
            "application/vnd.google.colaboratory.intrinsic+json": {
              "type": "string"
            }
          },
          "metadata": {},
          "execution_count": 12
        }
      ],
      "source": [
        "from plotly.subplots import make_subplots\n",
        "\n",
        "head = 5\n",
        "df1=goalies_38app.sort_values(by='Clean sheets', ascending=False).head(head)\n",
        "df2=goalies_38app.sort_values(by='Saves', ascending=False).head(head)\n",
        "df3=goalies_38app.sort_values(by='High Claims', ascending=False).head(head)\n",
        "df4=goalies_38app.sort_values(by='Catches', ascending=False).head(head)\n",
        "\n",
        "df11=goalies_.sort_values(by='Clean sheets', ascending=False).head(head)\n",
        "df12=goalies_.sort_values(by='Saves', ascending=False).head(head)\n",
        "df13=goalies_.sort_values(by='High Claims', ascending=False).head(head)\n",
        "df14=goalies_.sort_values(by='Catches', ascending=False).head(head)\n",
        "\n",
        "fig = make_subplots(\n",
        "    rows=4, cols=2,\n",
        "    subplot_titles=('Clean sheets (overall)', 'Clean sheets (per-game)','Saves (overall)','Saves (per-game)',\n",
        "                    'High Claims (overall)', 'High Claims (per-game)','Catches (overall)', 'Catches (per-game)'),\n",
        "    horizontal_spacing = 0.12,\n",
        "    vertical_spacing = 0.075)\n",
        "\n",
        "fig.add_trace(go.Bar(\n",
        "                y=df1[\"Name\"],\n",
        "                x=df1['Clean sheets'],\n",
        "                hovertext=df1['Club'],\n",
        "                orientation='h'),\n",
        "                row=1, col=1)\n",
        "\n",
        "fig.add_trace(go.Bar(\n",
        "                y=df2[\"Name\"],\n",
        "                x=df2['Saves'],\n",
        "                hovertext=df2['Club'],\n",
        "                orientation='h'),\n",
        "                row=2, col=1)\n",
        "\n",
        "fig.add_trace(go.Bar(\n",
        "                y=df3[\"Name\"],\n",
        "                x=df3['High Claims'],\n",
        "                hovertext=df3['Club'],\n",
        "                orientation='h'),\n",
        "                row=3, col=1)\n",
        "\n",
        "fig.add_trace(go.Bar(\n",
        "                y=df4[\"Name\"],\n",
        "                x=df4['Catches'],\n",
        "                hovertext=df4['Club'],\n",
        "                orientation='h'),\n",
        "                row=4, col=1)\n",
        "\n",
        "\n",
        "fig.add_trace(go.Bar(\n",
        "                y=df11[\"Name\"],\n",
        "                x=df11['Clean sheets'],\n",
        "                hovertext=df11['Club'],\n",
        "                orientation='h'),\n",
        "                row=1, col=2)\n",
        "\n",
        "fig.add_trace(go.Bar(\n",
        "                y=df12[\"Name\"],\n",
        "                x=df12['Saves'],\n",
        "                hovertext=df12['Club'],\n",
        "                orientation='h'),\n",
        "                row=2, col=2)\n",
        "\n",
        "fig.add_trace(go.Bar(\n",
        "                y=df13[\"Name\"],\n",
        "                x=df13['High Claims'],\n",
        "                hovertext=df13['Club'],\n",
        "                orientation='h'),\n",
        "                row=3, col=2)\n",
        "\n",
        "fig.add_trace(go.Bar(\n",
        "                y=df14[\"Name\"],\n",
        "                x=df14['Catches'],\n",
        "                hovertext=df14['Club'],\n",
        "                orientation='h'),\n",
        "                row=4, col=2)\n",
        "\n",
        "fig.update_traces(marker_color= ['rgb(110,102,250)','rgb(210,202,82)','rgb(210,202,82)','rgb(210,202,82)',\n",
        "                                 'rgb(210,202,82)',], marker_line_color='rgb(8,48,107)',\n",
        "                  marker_line_width=2.5, opacity=0.6)\n",
        "fig.update_layout(title_text='<b> Top goalkeepers stat<b>',\n",
        "                  titlefont={'size':28},\n",
        "                  title_x=0.5,\n",
        "                  showlegend=False,\n",
        "                  autosize=False,\n",
        "                  width=1300,\n",
        "                  height=1200,\n",
        "                  template='ggplot2',\n",
        "                  paper_bgcolor='lightgray',\n",
        "                  #plot_bgcolor='lightgray',\n",
        "                 )\n",
        "file_path = '/content/drive/MyDrive/Colab Notebooks/DS340/Visuals/top_gk.html'\n",
        "pyo.plot(fig, filename=file_path)"
      ]
    },
    {
      "cell_type": "markdown",
      "metadata": {
        "id": "yTQMmW7Vneh6"
      },
      "source": [
        "<a href=\"#top\">Back to top</a>  \n",
        "<div>    \n",
        "<img src=\"https://staticg.sportskeeda.com/editor/2020/01/ed476-15783945689891-800.jpg\" width=\"500\"/>    \n",
        "</div>\n",
        "\n",
        "### 3.2 Defenders <a class=\"anchor\" id=\"3.2\"></a>\n",
        "\n",
        "In a game of footall (in fact in any game where a draw is possible) if you can not win the game then do not lose it. That means defend well and do not concede a goal. For that to happen derenders play a huge part. Good defenders are able to read the game very well and sense where the danger is in time. They know when to join the party (attacking) or sit back and defend. Although they are rare to find, there are defenders who can do more than their own job by assisting goals and scoring themselves as well. Let's see who are the best defenders at doing their job and who are contributing more than they are needed to.\n",
        "\n",
        "**Extra info**:\n",
        "Most expensive defender in the EPL:\n",
        "1. Harry Maguire (Leicester City to Manchester United) - €87million\n",
        "2. Virgil van Dijk (Southampton to Liverpool) - €84.65 million\n",
        "3. Joao Cancelo (Juventus to Manchester City) - €65 million\n",
        "\n",
        "Contrary to the transfer fees, big Virgil is the best defender in the list, if not in the world (of course my opinion)\n",
        "\n",
        "[Here is the reference.](https://www.kickoff.com/news/articles/world-news/categories/news/english-premier-league/the-10-most-expensive-defenders-of-all-time/681803?gallery=681803&gallery-page=11#ig)"
      ]
    },
    {
      "cell_type": "code",
      "execution_count": 13,
      "metadata": {
        "id": "kRAw1l88neh7",
        "colab": {
          "base_uri": "https://localhost:8080/",
          "height": 35
        },
        "outputId": "4a8b55ad-3cf0-4705-db34-3cf1698796a1"
      },
      "outputs": [
        {
          "output_type": "execute_result",
          "data": {
            "text/plain": [
              "'/content/drive/MyDrive/Colab Notebooks/DS340/Visuals/top_df.html'"
            ],
            "application/vnd.google.colaboratory.intrinsic+json": {
              "type": "string"
            }
          },
          "metadata": {},
          "execution_count": 13
        }
      ],
      "source": [
        "defenders_attr =['Blocked shots', 'Interceptions', 'Clearances','Headed Clearance', 'Clearances off line',\n",
        "                 'Duels won','Successful 50/50s', 'Aerial battles won']\n",
        "# top=5\n",
        "# defenders_attr =['Tackles', 'Tackle success'Interceptions' %', 'Last man tackles', 'Blocked shots', 'Interceptions', 'Clearances',\n",
        "#                  'Headed Clearance', 'Clearances off line', 'Recoveries', 'Duels won','Successful 50/50s', 'Aerial battles won']\n",
        "# for atr in defenders_attr:\n",
        "#     text = 5\n",
        "#     df = data_38app[data_38app[\"Position\"] == 'Defender'].sort_values(by=atr, ascending=False).head(top)\n",
        "#     fig = px.bar(df, x=\"Name\",\n",
        "#                  y=atr,\n",
        "#                  color='Club',\n",
        "#                  hover_name=None,\n",
        "#                  title=\"Defender defensive ability: Top {} {} \".format(text, atr.lower()))\n",
        "#     fig.update_layout(autosize=False, width=1000, height=500)\n",
        "#     iplot(fig)\n",
        "\n",
        "\n",
        "top = 5\n",
        "fig = make_subplots(\n",
        "    rows=5, cols=2,\n",
        "    horizontal_spacing = 0.05,\n",
        "    vertical_spacing = 0.075,\n",
        "    subplot_titles=('Blocked shots (overall)', 'Blocked shots (per-game)','Interceptions (overall)', 'Interceptions (per-game)','Clearances (overall)',\n",
        "                    'Clearances (per-game)','Headed Clearance (overall)', 'Headed Clearance (per-game)','Clearances off line (overall)', 'Clearances off line (per-game)'),\n",
        "    )\n",
        "\n",
        "\n",
        "df = defenders_38app.sort_values(by='Blocked shots', ascending=False).head(top)\n",
        "fig.add_trace(go.Bar(x=df[\"Name\"],\n",
        "             y=df['Blocked shots'],\n",
        "             #color='Club',\n",
        "             #hover_name=None,\n",
        "             orientation='v'),\n",
        "             row=1, col=1)\n",
        "\n",
        "df = defenders_38app.sort_values(by='Interceptions', ascending=False).head(top)\n",
        "fig.add_trace(go.Bar(x=df[\"Name\"],\n",
        "             y=df['Interceptions'],\n",
        "             #color='Club',\n",
        "             #hover_name=None,\n",
        "             orientation='v'),\n",
        "             row=2, col=1)\n",
        "\n",
        "df = defenders_38app.sort_values(by='Clearances', ascending=False).head(top)\n",
        "fig.add_trace(go.Bar(x=df[\"Name\"],\n",
        "             y=df['Clearances'],\n",
        "             #color='Club',\n",
        "            #hover_name=None,\n",
        "             orientation='v'),\n",
        "             row=3, col=1)\n",
        "\n",
        "\n",
        "df = defenders_38app.sort_values(by='Headed Clearance', ascending=False).head(top)\n",
        "fig.add_trace(go.Bar(x=df[\"Name\"],\n",
        "             y=df['Headed Clearance'],\n",
        "             #color='Club',\n",
        "             #hover_name=None,\n",
        "             orientation='v'),\n",
        "             row=4,col=1)\n",
        "\n",
        "df = defenders_38app.sort_values(by='Clearances off line', ascending=False).head(top)\n",
        "fig.add_trace(go.Bar( x=df[\"Name\"],\n",
        "             y=df['Clearances off line'],\n",
        "             #color='Club',\n",
        "             #hover_name=None,\n",
        "             orientation='v'),\n",
        "             row=5, col=1)\n",
        "\n",
        "\n",
        "df = defenders_.sort_values(by='Blocked shots', ascending=False).head(top)\n",
        "fig.add_trace(go.Bar( x=df[\"Name\"],\n",
        "             y=df['Blocked shots'],\n",
        "             #color='Club',\n",
        "             #hover_name=None,\n",
        "             orientation='v'),\n",
        "             row=1, col=2)\n",
        "\n",
        "df = defenders_.sort_values(by='Interceptions', ascending=False).head(top)\n",
        "fig.add_trace(go.Bar( x=df[\"Name\"],\n",
        "             y=df['Interceptions'],\n",
        "             #color='Club',\n",
        "             #hover_name=None,\n",
        "             orientation='v'),\n",
        "             row=2, col=2)\n",
        "\n",
        "\n",
        "df = defenders_.sort_values(by='Clearances', ascending=False).head(top)\n",
        "fig.add_trace(go.Bar(x=df[\"Name\"],\n",
        "             y=df['Clearances'],\n",
        "             #color='Club',\n",
        "             #hover_name=None,\n",
        "             orientation='v'),\n",
        "             row=3, col=2)\n",
        "\n",
        "\n",
        "df = defenders_.sort_values(by='Headed Clearance', ascending=False).head(top)\n",
        "fig.add_trace(go.Bar( x=df[\"Name\"],\n",
        "             y=df['Headed Clearance'],\n",
        "             #color='Club',\n",
        "             #hover_name=None,\n",
        "             orientation='v'),\n",
        "             row=4,col=2)\n",
        "\n",
        "df = defenders_.sort_values(by='Clearances off line', ascending=False).head(top)\n",
        "fig.add_trace(go.Bar( x=df[\"Name\"],\n",
        "             y=df['Clearances off line'],\n",
        "             #color='Club',\n",
        "             #hover_name=None,\n",
        "             orientation='v'),\n",
        "             row=5, col=2)\n",
        "\n",
        "#fig.update_layout(title_text='Top Defender Qualities', title_x=0.5)\n",
        "fig.update_traces(marker_color= ['rgb(96, 96, 96)','rgb(210,202,82)','rgb(210,202,82)','rgb(210,202,82)',\n",
        "                                 'rgb(210,202,82)', 'rgb(210,202,82)'], marker_line_color='rgb(8,48,107)',\n",
        "                  marker_line_width=2.5, opacity=0.6)\n",
        "\n",
        "fig.update_layout(title_text='<b>Top Defender Qualities<b>',\n",
        "                  titlefont={'size':28},\n",
        "                  title_x=0.5,\n",
        "                  showlegend=False,\n",
        "                  autosize=False,\n",
        "                  width=1300,\n",
        "                  height=1300,\n",
        "                  template='ggplot2',\n",
        "                  paper_bgcolor='lightgray')\n",
        "file_path = '/content/drive/MyDrive/Colab Notebooks/DS340/Visuals/top_df.html'\n",
        "pyo.plot(fig, filename=file_path)\n"
      ]
    },
    {
      "cell_type": "markdown",
      "metadata": {
        "id": "gzCPKhpGneh7"
      },
      "source": [
        "<div>    \n",
        "<img src=\"https://assets-cms.thescore.com/uploads/image/file/215195/w1280xh966_EPL.jpg?ts=1479567580\" width=\"500\"/>    \n",
        "</div>\n",
        "\n",
        "### 3.3 Midfielders <a class=\"anchor\" id=\"3.3\"></a>\n",
        "\n",
        "As it's often called mid-field is the engine-room of a football team. Mid-fielders dictate the tempo of the game, they help their attacking or defending team mates depending on the situation of their team is in. Their ability to thread in an incisive pass or their awarness to sense danger before their defending colleagues are in trouble are crucial qualities of a good mid-fielder. All great teams past and present had/have a couple world-class mid-fielders in them. Below some of these attributes are summerized.\n",
        "\n"
      ]
    },
    {
      "cell_type": "code",
      "execution_count": 14,
      "metadata": {
        "id": "4cipViCbneh7",
        "colab": {
          "base_uri": "https://localhost:8080/",
          "height": 35
        },
        "outputId": "de0bcec6-2e48-495e-d2c7-f388318e48a6"
      },
      "outputs": [
        {
          "output_type": "execute_result",
          "data": {
            "text/plain": [
              "'/content/drive/MyDrive/Colab Notebooks/DS340/Visuals/top_mid_df.html'"
            ],
            "application/vnd.google.colaboratory.intrinsic+json": {
              "type": "string"
            }
          },
          "metadata": {},
          "execution_count": 14
        }
      ],
      "source": [
        "mid_field_attr_D =['Recoveries','Duels won','Successful 50/50s','Aerial battles won']\n",
        "\n",
        "col=2\n",
        "row=4\n",
        "\n",
        "top = 5\n",
        "fig = make_subplots(\n",
        "    rows=4, cols=2,\n",
        "    subplot_titles=('Recoveries (overall)','Recoveries (per-game)','Duels won (overall)','Duels won (per-game)','Successful 50/50s (overall)',\n",
        "                    'Successful 50/50s (per-game)','Aerial battles won (overall)', 'Aerial battles won (per-game)'))\n",
        "\n",
        "for i, atr in enumerate(mid_field_attr_D):\n",
        "    df = data_38app[data_38app[\"Position\"] == 'Midfielder'].sort_values(by=atr, ascending=False).head(top)\n",
        "    fig.add_trace(go.Bar(x=df['Name'],\n",
        "         y=df[atr],\n",
        "         orientation='v'),\n",
        "         row=i+1, col=1)\n",
        "\n",
        "for j, atr in enumerate(mid_field_attr_D):\n",
        "    df = midfielders_.sort_values(by=atr, ascending=False).head(top)\n",
        "    fig.add_trace(go.Bar(x=df['Name'],\n",
        "         y=df[atr],\n",
        "         orientation='v'),\n",
        "         row=j+1, col=2)\n",
        "\n",
        "    fig.update_traces(marker_color= ['rgb(96, 96, 96)','rgb(110,202,82)','rgb(110,202,82)','rgb(110,202,82)',\n",
        "                                    'rgb(110,202,82)', 'rgb(110,202,82)'], marker_line_color='rgb(8,48,107)',\n",
        "                  marker_line_width=2.5, opacity=0.6)\n",
        "\n",
        "fig.update_layout(title_text='<b>Top Midfield Qualities: Defense Ability<b>',\n",
        "                  titlefont={'size': 28, 'family':'Courier'},\n",
        "                  title_x=0.5,\n",
        "                  showlegend=False,\n",
        "                  autosize=False,\n",
        "                  width=1200,\n",
        "                  height=1200,\n",
        "                  template='ggplot2',\n",
        "                  paper_bgcolor='lightgray')\n",
        "file_path = '/content/drive/MyDrive/Colab Notebooks/DS340/Visuals/top_mid_df.html'\n",
        "pyo.plot(fig, filename=file_path)\n"
      ]
    },
    {
      "cell_type": "code",
      "execution_count": 15,
      "metadata": {
        "id": "6dMdMbHLneh7",
        "colab": {
          "base_uri": "https://localhost:8080/",
          "height": 35
        },
        "outputId": "2d2668f0-fc90-434d-a3bd-98fb1d28f66f"
      },
      "outputs": [
        {
          "output_type": "execute_result",
          "data": {
            "text/plain": [
              "'/content/drive/MyDrive/Colab Notebooks/DS340/Visuals/top_mid_attack.html'"
            ],
            "application/vnd.google.colaboratory.intrinsic+json": {
              "type": "string"
            }
          },
          "metadata": {},
          "execution_count": 15
        }
      ],
      "source": [
        "mid_field_attr_A =['Assists','Big chances created','Cross accuracy %','Through balls']\n",
        "col=2\n",
        "row=4\n",
        "\n",
        "top = 5\n",
        "fig = make_subplots(\n",
        "    rows=4, cols=2,\n",
        "    subplot_titles=('Assists (overall)','Assists (per-game)','Big chances created (overall)','Big chances created (per-game)','Cross accuracy % (overall)',\n",
        "                    'Cross accuracy % (per-game)','Through balls (overall)', 'Through balls (per-game)'))\n",
        "\n",
        "for i, atr in enumerate(mid_field_attr_A):\n",
        "    df = data_38app[data_38app[\"Position\"] == 'Midfielder'].sort_values(by=atr, ascending=False).head(top)\n",
        "    fig.add_trace(go.Bar(x=df['Name'],\n",
        "         y=df[atr],\n",
        "         orientation='v'),\n",
        "         row=i+1, col=1)\n",
        "\n",
        "for j, atr in enumerate(mid_field_attr_A):\n",
        "    df = midfielders_.sort_values(by=atr, ascending=False).head(top)\n",
        "    fig.add_trace(go.Bar(x=df['Name'],\n",
        "         y=df[atr],\n",
        "         orientation='v'),\n",
        "         row=j+1, col=2)\n",
        "\n",
        "    fig.update_traces(marker_color= ['rgb(255, 208, 288)','rgb(100,100,100)','rgb(100,100,100)','rgb(100,100,100)',\n",
        "                                    'rgb(100,100,100)', 'rgb(100,100,100)'], marker_line_color='rgb(8,48,107)',\n",
        "                  marker_line_width=2.5, opacity=0.6)\n",
        "\n",
        "fig.update_layout(title_text='<b>Top Midfield Qualities: Creative Ability<b>',\n",
        "                  titlefont={'size': 28, 'family':'Courier'},\n",
        "                  title_x=0.5,\n",
        "                  showlegend=False,\n",
        "                  autosize=False,\n",
        "                  width=1200,\n",
        "                  height=1200,\n",
        "                  template='ggplot2',\n",
        "                  paper_bgcolor='lightgray')\n",
        "file_path = '/content/drive/MyDrive/Colab Notebooks/DS340/Visuals/top_mid_attack.html'\n",
        "pyo.plot(fig, filename=file_path)"
      ]
    },
    {
      "cell_type": "markdown",
      "metadata": {
        "id": "6g44Rei1neh7"
      },
      "source": [
        "<a href=\"#top\">Back to top</a>  \n",
        "<div>    \n",
        "<img src=\"https://dailypost.ng/wp-content/uploads/2019/04/epl-top-scorers-1.jpg\" width=\"500\"/>    \n",
        "</div>\n",
        "\n",
        "### 3.4 Forwards <a class=\"anchor\" id=\"3.4\"></a>\n",
        "\n",
        "#### Goals, goals and goals:\n",
        "\n",
        "Winning a game is the ultimate goal of the beautiful game. Scoring more goals that your opponent will do just that. We all watch football and enjoy when the team we support or our favorite team scores gaol/s. And enjoy the moment. Some would argue that goals just for the sake of goals are meaningless without attractive, entertaining attacking football. But goals goals are that wins you games. Below are the goals machines in the EPL.\n",
        "\n",
        "1. Most goals: Sergio Aguero, Harry Kane, Jamie Vardy\n",
        "2. Most right foot goals: Sergio Aguero, Harry Kane, Jamie Vardy\n",
        "3. Most left foot goals: Mohammed Salah, Oliver Giroud, Ryhad Mahrez\n",
        "4. Most headed goals: Oliver Giroud, Christian Benket, Andy Carrol\n",
        "5. Most goal scoring nations: England, France, Brazil Argentina"
      ]
    },
    {
      "cell_type": "code",
      "execution_count": 16,
      "metadata": {
        "id": "OQJ_Fpjlneh7",
        "colab": {
          "base_uri": "https://localhost:8080/",
          "height": 35
        },
        "outputId": "6940bce1-678a-4752-a7c2-f1fdda5c8463"
      },
      "outputs": [
        {
          "output_type": "execute_result",
          "data": {
            "text/plain": [
              "'/content/drive/MyDrive/Colab Notebooks/DS340/Visuals/top_goal.html'"
            ],
            "application/vnd.google.colaboratory.intrinsic+json": {
              "type": "string"
            }
          },
          "metadata": {},
          "execution_count": 16
        }
      ],
      "source": [
        "headerColor = 'grey'\n",
        "rowEvenColor = 'lightgrey'\n",
        "rowOddColor = 'white'\n",
        "\n",
        "\n",
        "head = 10\n",
        "table_header = ['Rank', 'Total goals','Goals with right foot','Goals with left foot','Headed goals']\n",
        "df = data_38app\n",
        "\n",
        "fig = go.Figure(data=[go.Table(\n",
        "\n",
        "    header=dict(values=list(table_header),\n",
        "                    line_color='darkslategray',\n",
        "                    fill_color=headerColor,\n",
        "                    align=['left'],\n",
        "                    font=dict(color='white', size=20),\n",
        "                    height=30\n",
        "                               ),\n",
        "\n",
        "    cells=dict(values=[list(np.arange(1, head+1)),\n",
        "        data_38app.sort_values(by='Goals', ascending=False)['Name'].head(head),\n",
        "\n",
        "        data_38app.sort_values(by='Goals with right foot', ascending=False)['Name'].head(head),\n",
        "        data_38app.sort_values(by='Goals with left foot', ascending=False)['Name'].head(head),\n",
        "        data_38app.sort_values(by='Headed goals', ascending=False)['Name'].head(head)],\n",
        "\n",
        "       fill_color=[[rowOddColor,rowEvenColor]*5],\n",
        "       font=dict(color='black', size=16, family=\"Courier New, monospace\",),\n",
        "       align='left', height=25,)\n",
        "        )\n",
        "])\n",
        "fig.update_layout(title_text='TOP {} GOAL SCORERS'.format(head), title_x=0.5, font=dict(color='white', size=20, family=\"Courier New, monospace\",))\n",
        "fig.update_layout(width=1200, height=550, template='plotly_dark')\n",
        "file_path = '/content/drive/MyDrive/Colab Notebooks/DS340/Visuals/top_goal.html'\n",
        "pyo.plot(fig, filename=file_path)"
      ]
    },
    {
      "cell_type": "code",
      "execution_count": 17,
      "metadata": {
        "id": "TlJHix8Ineh7",
        "colab": {
          "base_uri": "https://localhost:8080/",
          "height": 35
        },
        "outputId": "907392dc-2b43-4b5e-81e6-20c883caf7e4"
      },
      "outputs": [
        {
          "output_type": "execute_result",
          "data": {
            "text/plain": [
              "'/content/drive/MyDrive/Colab Notebooks/DS340/Visuals/top_goal_country.html'"
            ],
            "application/vnd.google.colaboratory.intrinsic+json": {
              "type": "string"
            }
          },
          "metadata": {},
          "execution_count": 17
        }
      ],
      "source": [
        "#data = data_38app.head(10)\n",
        "fig = px.pie(data,\n",
        "             values='Goals',\n",
        "             names='Nationality',\n",
        "             title='<b>Player of which country score the most goals? <b>',\n",
        "             width=550, height=550,\n",
        "             )\n",
        "fig.update_traces(textposition='inside',\n",
        "                  textinfo='percent+label',\n",
        "                  showlegend= False,\n",
        "                 )\n",
        "file_path = '/content/drive/MyDrive/Colab Notebooks/DS340/Visuals/top_goal_country.html'\n",
        "pyo.plot(fig, filename=file_path)"
      ]
    },
    {
      "cell_type": "code",
      "execution_count": 18,
      "metadata": {
        "id": "JWsn32-_neh7"
      },
      "outputs": [],
      "source": [
        "#Headed goals\n",
        "hg_f =data[data['Position'] == 'Forward']['Headed goals'].sum()\n",
        "hg_m =data[data['Position'] == 'Midfielder']['Headed goals'].sum()\n",
        "hg_d =data[data['Position'] == 'Defender']['Headed goals'].sum()\n",
        "hg_kg =data[data['Position'] == 'Goalkeeper']['Headed goals'].sum()\n",
        "#Goals with right foot\n",
        "rfg_f =data[data['Position'] == 'Forward']['Goals with right foot'].sum()\n",
        "rfg_m =data[data['Position'] == 'Midfielder']['Goals with right foot'].sum()\n",
        "rfg_d =data[data['Position'] == 'Defender']['Goals with right foot'].sum()\n",
        "rfg_kg =data[data['Position'] == 'Goalkeeper']['Goals with right foot'].sum()\n",
        "#Goals with left foot\n",
        "lfg_f =data[data['Position'] == 'Forward']['Goals with left foot'].sum()\n",
        "lfg_m =data[data['Position'] == 'Midfielder']['Goals with left foot'].sum()\n",
        "lfg_d =data[data['Position'] == 'Defender']['Goals with left foot'].sum()\n",
        "lfg_kg =data[data['Position'] == 'Goalkeeper']['Goals with left foot'].sum()\n"
      ]
    },
    {
      "cell_type": "markdown",
      "metadata": {
        "id": "CDX7hKFhneh7"
      },
      "source": [
        "## 4. Other Statistics <a class=\"anchor\" id=\"4\"></a>\n",
        "### 4.1 Goal distribution <a class=\"anchor\" id=\"4.1\"></a>\n",
        "Summary:\n",
        "\n",
        "* Forwards score more goals (obvious)\n",
        "* Right-footed goals are dominant\n",
        "* Defenders love to head\n",
        "* The big hitters are Machester City, Liverpool and Tottenham\n",
        "* The new boys (Leeds United have the fewest goals scored)\n",
        "* **Crystal Palace defenders** have the best goal-scoring defenders\n"
      ]
    },
    {
      "cell_type": "code",
      "execution_count": 19,
      "metadata": {
        "id": "ieLB206pneh7",
        "colab": {
          "base_uri": "https://localhost:8080/",
          "height": 35
        },
        "outputId": "69d0b01c-e73b-46c7-f925-0bc1f23fdce4"
      },
      "outputs": [
        {
          "output_type": "execute_result",
          "data": {
            "text/plain": [
              "'/content/drive/MyDrive/Colab Notebooks/DS340/Visuals/goal_club.html'"
            ],
            "application/vnd.google.colaboratory.intrinsic+json": {
              "type": "string"
            }
          },
          "metadata": {},
          "execution_count": 19
        }
      ],
      "source": [
        "fig = go.Figure()\n",
        "\n",
        "fig.add_trace(go.Bar(\n",
        "    x=data['Club'],\n",
        "    y=data['Goals with right foot'],\n",
        "    name='Right foot goals',\n",
        "    marker_color='indianred'\n",
        "))\n",
        "fig.add_trace(go.Bar(\n",
        "    x=data['Club'],\n",
        "    y=data['Goals with left foot'],\n",
        "    name='Left foot goals',\n",
        "   marker_color='lightsalmon'\n",
        "))\n",
        "\n",
        "fig.add_trace(go.Bar(\n",
        "    x=data['Club'],\n",
        "    y=data['Headed goals'],\n",
        "    name='Headers',\n",
        "   marker_color='lightseagreen'\n",
        "))\n",
        "\n",
        "fig.update_layout(barmode='group',)# xaxis_tickangle=-45)\n",
        "fig.update_layout(title_text=\"<b>Goal distribution by club<b>\",\n",
        "                  titlefont={'size': 24, 'family': 'Courier'},\n",
        "                  width=750,\n",
        "                  height =500,\n",
        "                  template='simple_white'\n",
        "                 )\n",
        "\n",
        "file_path = '/content/drive/MyDrive/Colab Notebooks/DS340/Visuals/goal_club.html'\n",
        "pyo.plot(fig, filename=file_path)"
      ]
    },
    {
      "cell_type": "code",
      "execution_count": 20,
      "metadata": {
        "id": "63VlVbk7neh8",
        "colab": {
          "base_uri": "https://localhost:8080/",
          "height": 35
        },
        "outputId": "ca9f28d3-0cc0-44da-8d10-d16f0cd3e11f"
      },
      "outputs": [
        {
          "output_type": "execute_result",
          "data": {
            "text/plain": [
              "'/content/drive/MyDrive/Colab Notebooks/DS340/Visuals/right.html'"
            ],
            "application/vnd.google.colaboratory.intrinsic+json": {
              "type": "string"
            }
          },
          "metadata": {},
          "execution_count": 20
        }
      ],
      "source": [
        "df = data\n",
        "\n",
        "fig = px.sunburst(df, path=['Position', 'Club'], values='Headed goals')\n",
        "fig.update_layout(title_text=\"<b>Headed goals (Club, position)<b>\",\n",
        "                  titlefont= {'size': 24},\n",
        "                  width=500,\n",
        "                  height=500)\n",
        "file_path = '/content/drive/MyDrive/Colab Notebooks/DS340/Visuals/head.html'\n",
        "pyo.plot(fig, filename=file_path)\n",
        "\n",
        "fig1 = px.sunburst(df, path=['Position', 'Club'], values='Goals with left foot')\n",
        "fig1.update_layout(title_text=\"<b>Left footed goals (Club, position<b>\",\n",
        "                   titlefont= {'size': 24,},\n",
        "                   width=500,\n",
        "                   height=500)\n",
        "file_path = '/content/drive/MyDrive/Colab Notebooks/DS340/Visuals/left.html'\n",
        "pyo.plot(fig, filename=file_path)\n",
        "\n",
        "fig2 = px.sunburst(df, path=['Position', 'Club'], values='Goals with right foot')\n",
        "fig2.update_layout(title_text=\"<b>Right footed goals (Club, position)<b>\",\n",
        "                   titlefont= {'size': 24,},\n",
        "                   width=500,\n",
        "                   height=500)\n",
        "file_path = '/content/drive/MyDrive/Colab Notebooks/DS340/Visuals/right.html'\n",
        "pyo.plot(fig, filename=file_path)"
      ]
    },
    {
      "cell_type": "code",
      "execution_count": 21,
      "metadata": {
        "id": "HHZnhNRWneh8",
        "colab": {
          "base_uri": "https://localhost:8080/",
          "height": 35
        },
        "outputId": "33f14046-a3c5-45f6-e40b-b3bc8117eb9c"
      },
      "outputs": [
        {
          "output_type": "execute_result",
          "data": {
            "text/plain": [
              "'/content/drive/MyDrive/Colab Notebooks/DS340/Visuals/goals.html'"
            ],
            "application/vnd.google.colaboratory.intrinsic+json": {
              "type": "string"
            }
          },
          "metadata": {},
          "execution_count": 21
        }
      ],
      "source": [
        "goals_groupedby_clubs=data.groupby(['Club']).agg({'Goals with left foot':sum,\n",
        "                                                  'Goals with right foot':sum, 'Headed goals': sum })\n",
        "\n",
        "\n",
        "all_nodes = ['Forwards', 'Midfielders', 'Defenders', 'Right foot goals', 'Left foot goals', 'Headed goals',\n",
        "           'Arsenal', 'Aston-Villa', 'Brighton-and-Hove-Albion', 'Burnley',\n",
        "           'Chelsea', 'Crystal-Palace', 'Everton', 'Fulham', 'Leeds-United',\n",
        "           'Leicester-City', 'Liverpool', 'Manchester-City', 'Manchester-United',\n",
        "           'Newcastle-United', 'Sheffield-United', 'Southampton',\n",
        "           'Tottenham-Hotspur', 'West-Bromwich-Albion', 'West-Ham-United',\n",
        "           'Wolverhampton-Wanderers']\n",
        "\n",
        "\n",
        "# source nodes\n",
        "list_1 = [0,1,2]\n",
        "list_2 = [3,4,5]\n",
        "source = 3*list_1 + 20*list_2\n",
        "\n",
        "\n",
        "# target nodes\n",
        "target = []\n",
        "for tar in range(3, 26):\n",
        "    target.extend(repeat(tar, 3))\n",
        "\n",
        "#\n",
        "R = goals_groupedby_clubs['Goals with right foot'].values\n",
        "L = goals_groupedby_clubs['Goals with left foot'].values\n",
        "H = goals_groupedby_clubs['Headed goals'].values\n",
        "\n",
        "#\n",
        "goals_scored = []\n",
        "for i in range(len(R)):\n",
        "    goals_scored.append(R[i])\n",
        "    goals_scored.append(L[i])\n",
        "    goals_scored.append(H[i])\n",
        "\n",
        "value = [rfg_f, rfg_m, rfg_d, lfg_f, lfg_m, lfg_d, hg_f, hg_m, hg_d] + goals_scored\n",
        "\n",
        "\n",
        "fig = go.Figure(\n",
        "      data=[go.Sankey(\n",
        "      node = dict(\n",
        "      pad = 2,\n",
        "      thickness = 75,\n",
        "      line = dict(color = \"gray\", width = 0.75),\n",
        "      label = all_nodes,\n",
        "      color = ['#67AEE1', '#ff6e4a', '#48bf91'] +\n",
        "          3*['gold'] + 20*['#babad4']#node_colors\n",
        "\n",
        "    ),\n",
        "\n",
        "    link = dict(\n",
        "       source = source,\n",
        "\n",
        "       target = target,\n",
        "\n",
        "       value =  value,\n",
        "\n",
        "       color = 26*['#94C6EA', '#ffb6a4', '#a3dfc8'],\n",
        "       #color = 26*['#d8d8d8', '#a7a7a7', '#4f4f4f']\n",
        "))])\n",
        "\n",
        "fig.update_layout(title_text=\"<b> Distribution of goals: <b> \"\\\n",
        "                  '<br><span style=\"font-size:16px; color: darkgray\"> By player position, club and part-of-body scored by',\n",
        "                  titlefont={'size': 28, 'family': 'Courier'})\n",
        "fig.update_traces(textfont_family='Courier', selector=dict(type='sankey'))\n",
        "file_path = '/content/drive/MyDrive/Colab Notebooks/DS340/Visuals/goals.html'\n",
        "pyo.plot(fig, filename=file_path)"
      ]
    },
    {
      "cell_type": "markdown",
      "metadata": {
        "id": "Vl7rDjiDneh8"
      },
      "source": [
        "<a href=\"#top\">Back to top</a>  \n",
        "### 4.2 Unwanted records <a class=\"anchor\" id=\"4.2\"></a>\n",
        "\n",
        "Of course like in everyday-life, sometimes things happen in football wheather players like it or not. In football terms own goals, assisting the wrong player (aka error leading to a goal), being sent-off are some of the major ones. Let's see who are the unfortunate ones.\n",
        "\n",
        "**Summary**\n",
        "\n",
        "- Surprisingly Sergio Aguero (who's the top scorer) is also a big chance squanderer.\n",
        "- Joe Hart is error prone. No wonder Pep Guardiola has shown him the doors when he took-over at Manchester City.\n",
        "- Phil Jagielka love his own net, i.e has more own goals.\n",
        "- No wonder Mark Nobel is the biggest losser with so many recards to his name.\n",
        "- Wondered how many times Gabriel Jesus calls his own name (swears)? 0.56 time per game (that is his big chances missed per game)\n"
      ]
    },
    {
      "cell_type": "code",
      "execution_count": 22,
      "metadata": {
        "id": "DM3HUFhwneh8",
        "colab": {
          "base_uri": "https://localhost:8080/",
          "height": 35
        },
        "outputId": "9583e626-43b9-445b-c775-5887d656601c"
      },
      "outputs": [
        {
          "output_type": "execute_result",
          "data": {
            "text/plain": [
              "'/content/drive/MyDrive/Colab Notebooks/DS340/Visuals/bad.html'"
            ],
            "application/vnd.google.colaboratory.intrinsic+json": {
              "type": "string"
            }
          },
          "metadata": {},
          "execution_count": 22
        }
      ],
      "source": [
        "unwanted_records = ['Losses', 'Big chances missed','Own goals','Errors leading to goal', 'Red cards']\n",
        "col=2\n",
        "row=5\n",
        "\n",
        "top = 5\n",
        "fig = make_subplots(\n",
        "    rows=5, cols=2,\n",
        "    subplot_titles=('Losses (overall)', 'Losses (per-game)','Big chances missed (overall)','Big chances missed (per-game)',\n",
        "                    'Own goals (overall)','Own goals (per-game)', 'Errors leading to goal (overall)',\n",
        "                    'Errors leading to goal (per-game)','Red cards (overall)', 'Red cards (per-game)'))\n",
        "\n",
        "for i, atr in enumerate(unwanted_records):\n",
        "    df = data_38app.sort_values(atr, ascending=False).head(top)\n",
        "    fig.add_trace(go.Bar(x=df['Name'],\n",
        "         y=-df[atr],\n",
        "         orientation='v'),\n",
        "         row=i+1, col=1)\n",
        "\n",
        "for j, atr in enumerate(unwanted_records):\n",
        "    df = all_players.sort_values(atr, ascending=False).head(top)\n",
        "    fig.add_trace(go.Bar(x=df['Name'],\n",
        "         y=-df[atr],\n",
        "         orientation='v'),\n",
        "         row=j+1, col=2)\n",
        "\n",
        "    fig.update_traces(marker_color= ['rgb(255, 0, 0)'],\n",
        "                  marker_line_width=2.5, opacity=0.6)\n",
        "\n",
        "fig.update_layout(title_text='<b> List of the unfortunates <b>',\n",
        "                  titlefont={'size': 28, 'family':'Courier'},\n",
        "                  showlegend=False,\n",
        "                  autosize=False,\n",
        "                  width=1200, height=1100,\n",
        "                  paper_bgcolor='lightgray',\n",
        "                  plot_bgcolor='lightgray',\n",
        "                 )\n",
        "file_path = '/content/drive/MyDrive/Colab Notebooks/DS340/Visuals/bad.html'\n",
        "pyo.plot(fig, filename=file_path)\n"
      ]
    },
    {
      "cell_type": "markdown",
      "metadata": {
        "id": "DLRFO-Pzneh8"
      },
      "source": [
        "## 5. Closing Remarks  <a class=\"anchor\" id=\"5\"></a>\n",
        "\n",
        "- This exploration was a simple EDA and one point on a learning-curve in data visualizations and analysis. Football being the dataset, I enjoyed the process.\n",
        "- In the process of doing this EDA I also learned an excellent data visualization library, plotly. It is an interactive and customizable library with several option to choose from.\n",
        "- However, I was slightly dissapointed that the dataset was not updated to include the games until the end of the full season 2020/21. Some of the stats would certainly have changed the part conclusions. For example, Harry Kane ended the season as top goal scorer with 23 goals and would have claimed the top spot in one or more of the columns in \"Top 10 goal scorers\" table.\n",
        "\n",
        "\n"
      ]
    },
    {
      "cell_type": "markdown",
      "metadata": {
        "id": "gmXNYY0Wneh8"
      },
      "source": [
        "## 6. References <a class=\"anchor\" id=\"6\"></a>\n",
        "\n",
        "1. [The Premier League](https://en.wikipedia.org/wiki/Premier_League)\n",
        "2. [The 10 most expensive goalkeepers](https://www.espn.com/soccer/soccer-transfers/story/3135816/the-10-most-expensive-goalkeepers-kepa-alisson-becker-courtois-ederson)\n",
        "3. [10 most expensive defenders of all time](https://www.kickoff.com/news/articles/world-news/categories/news/english-premier-league/the-10-most-expensive-defenders-of-all-time/681803?gallery=681803&gallery-page=11#ig)\n",
        "4. https://plotly.com/"
      ]
    },
    {
      "cell_type": "markdown",
      "metadata": {
        "id": "edgjI67ineh8"
      },
      "source": [
        "<div>    \n",
        "<img src=\"https://www.collinsdictionary.com/images/full/goldengoal_110918564.jpg\" width=\"250\"/>   \n",
        "</div>\n",
        "\n",
        "\n",
        "###  <span align=\"center\" style= 'background:skyblue'> Thank you very much for reading this notebook! </span>\n",
        "\n",
        "  "
      ]
    },
    {
      "cell_type": "markdown",
      "metadata": {
        "id": "U6hOeGrPneh8"
      },
      "source": [
        "<a href=\"#top\">Back to top</a>"
      ]
    }
  ],
  "metadata": {
    "colab": {
      "provenance": [],
      "include_colab_link": true
    },
    "kaggle": {
      "accelerator": "none",
      "dataSources": [
        {
          "datasetId": 889428,
          "sourceId": 1511343,
          "sourceType": "datasetVersion"
        }
      ],
      "dockerImageVersionId": 30042,
      "isGpuEnabled": false,
      "isInternetEnabled": false,
      "language": "python",
      "sourceType": "notebook"
    },
    "kernelspec": {
      "display_name": "Python 3",
      "language": "python",
      "name": "python3"
    },
    "language_info": {
      "codemirror_mode": {
        "name": "ipython",
        "version": 3
      },
      "file_extension": ".py",
      "mimetype": "text/x-python",
      "name": "python",
      "nbconvert_exporter": "python",
      "pygments_lexer": "ipython3",
      "version": "3.6.4"
    }
  },
  "nbformat": 4,
  "nbformat_minor": 0
}